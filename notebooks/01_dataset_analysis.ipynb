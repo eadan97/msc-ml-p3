{
 "cells": [
  {
   "cell_type": "code",
   "execution_count": 1,
   "metadata": {
    "collapsed": true
   },
   "outputs": [],
   "source": [
    "# General\n",
    "import numpy as np\n",
    "import pandas as pd\n",
    "import matplotlib.pyplot as plt\n",
    "# Torch\n",
    "import torch\n",
    "from torchvision import datasets, transforms  # datsets  , transforms\n",
    "from torch.utils.data.sampler import SubsetRandomSampler\n",
    "import torch.nn as nn\n",
    "import torch.nn.functional as F\n",
    "from datetime import datetime"
   ]
  },
  {
   "cell_type": "code",
   "execution_count": 9,
   "outputs": [
    {
     "name": "stdout",
     "output_type": "stream",
     "text": [
      "{torch.Size([1, 3, 192, 256]), torch.Size([1, 3, 350, 350]), torch.Size([1, 3, 204, 204]), torch.Size([1, 3, 256, 256])}\n"
     ]
    }
   ],
   "source": [
    "transform = transforms.Compose(\n",
    "    [\n",
    "        # transforms.Resize(255),\n",
    "        # transforms.CenterCrop(224),\n",
    "        transforms.ToTensor()\n",
    "    ]\n",
    ")\n",
    "dataset = datasets.ImageFolder(\"../data/Plant_leave_diseases_dataset_with_augmentation\", transform=transform)\n",
    "dataloder = torch.utils.data.DataLoader(\n",
    "    dataset, batch_size=1\n",
    ")\n",
    "# print(dataset.classes)\n",
    "sizes=set()\n",
    "for batch in dataloder:\n",
    "    sizes.add(batch[0].size())\n",
    "    # break\n",
    "print(sizes)"
   ],
   "metadata": {
    "collapsed": false,
    "pycharm": {
     "name": "#%%\n"
    }
   }
  }
 ],
 "metadata": {
  "kernelspec": {
   "display_name": "Python 3",
   "language": "python",
   "name": "python3"
  },
  "language_info": {
   "codemirror_mode": {
    "name": "ipython",
    "version": 2
   },
   "file_extension": ".py",
   "mimetype": "text/x-python",
   "name": "python",
   "nbconvert_exporter": "python",
   "pygments_lexer": "ipython2",
   "version": "2.7.6"
  }
 },
 "nbformat": 4,
 "nbformat_minor": 0
}